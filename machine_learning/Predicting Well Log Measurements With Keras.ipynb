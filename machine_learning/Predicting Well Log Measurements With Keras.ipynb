{
 "cells": [
  {
   "cell_type": "code",
   "execution_count": 1,
   "id": "0e420631-c47f-4c9f-8992-ddbcc334ff8a",
   "metadata": {
    "execution": {
     "iopub.execute_input": "2023-07-20T10:30:28.093549Z",
     "iopub.status.busy": "2023-07-20T10:30:28.093193Z",
     "iopub.status.idle": "2023-07-20T10:30:28.102324Z",
     "shell.execute_reply": "2023-07-20T10:30:28.101060Z",
     "shell.execute_reply.started": "2023-07-20T10:30:28.093522Z"
    },
    "tags": []
   },
   "outputs": [
    {
     "name": "stderr",
     "output_type": "stream",
     "text": [
      "2023-10-26 13:48:02.465170: I tensorflow/core/platform/cpu_feature_guard.cc:182] This TensorFlow binary is optimized to use available CPU instructions in performance-critical operations.\n",
      "To enable the following instructions: AVX2 FMA, in other operations, rebuild TensorFlow with the appropriate compiler flags.\n"
     ]
    }
   ],
   "source": [
    "import pandas as pd\n",
    "from sklearn.model_selection import train_test_split\n",
    "import tensorflow as tf\n",
    "import matplotlib.pyplot as plt\n",
    "import numpy as np\n",
    "\n",
    "import missingno as msno"
   ]
  },
  {
   "cell_type": "code",
   "execution_count": 2,
   "id": "92a61ad2-3a8d-4e61-ac77-c60253b72a7a",
   "metadata": {
    "execution": {
     "iopub.execute_input": "2023-07-20T09:46:46.218686Z",
     "iopub.status.busy": "2023-07-20T09:46:46.217668Z",
     "iopub.status.idle": "2023-07-20T09:46:46.249210Z",
     "shell.execute_reply": "2023-07-20T09:46:46.248098Z",
     "shell.execute_reply.started": "2023-07-20T09:46:46.218650Z"
    },
    "tags": []
   },
   "outputs": [],
   "source": [
    "df = pd.read_csv(\"../data/Volve/VolveNN.csv\")"
   ]
  },
  {
   "cell_type": "code",
   "execution_count": 3,
   "id": "a3654a77-cf83-4664-977f-2181e6b3ff99",
   "metadata": {
    "execution": {
     "iopub.execute_input": "2023-07-20T09:46:46.261714Z",
     "iopub.status.busy": "2023-07-20T09:46:46.261316Z",
     "iopub.status.idle": "2023-07-20T09:46:46.289714Z",
     "shell.execute_reply": "2023-07-20T09:46:46.288717Z",
     "shell.execute_reply.started": "2023-07-20T09:46:46.261635Z"
    },
    "tags": []
   },
   "outputs": [
    {
     "data": {
      "text/html": [
       "<div>\n",
       "<style scoped>\n",
       "    .dataframe tbody tr th:only-of-type {\n",
       "        vertical-align: middle;\n",
       "    }\n",
       "\n",
       "    .dataframe tbody tr th {\n",
       "        vertical-align: top;\n",
       "    }\n",
       "\n",
       "    .dataframe thead th {\n",
       "        text-align: right;\n",
       "    }\n",
       "</style>\n",
       "<table border=\"1\" class=\"dataframe\">\n",
       "  <thead>\n",
       "    <tr style=\"text-align: right;\">\n",
       "      <th></th>\n",
       "      <th>WELL</th>\n",
       "      <th>DEPTH</th>\n",
       "      <th>GR</th>\n",
       "      <th>RHOB</th>\n",
       "      <th>NPHI</th>\n",
       "      <th>PEF</th>\n",
       "      <th>DT</th>\n",
       "      <th>DTS</th>\n",
       "      <th>RT</th>\n",
       "    </tr>\n",
       "  </thead>\n",
       "  <tbody>\n",
       "    <tr>\n",
       "      <th>0</th>\n",
       "      <td>15/9-F-11 A</td>\n",
       "      <td>2582.9</td>\n",
       "      <td>55.1860</td>\n",
       "      <td>2.3260</td>\n",
       "      <td>0.3520</td>\n",
       "      <td>6.8290</td>\n",
       "      <td>107.0670</td>\n",
       "      <td>261.0360</td>\n",
       "      <td>0.7810</td>\n",
       "    </tr>\n",
       "    <tr>\n",
       "      <th>1</th>\n",
       "      <td>15/9-F-11 A</td>\n",
       "      <td>2583.0</td>\n",
       "      <td>57.0150</td>\n",
       "      <td>2.3250</td>\n",
       "      <td>0.3640</td>\n",
       "      <td>6.8100</td>\n",
       "      <td>107.8100</td>\n",
       "      <td>260.1610</td>\n",
       "      <td>0.7720</td>\n",
       "    </tr>\n",
       "    <tr>\n",
       "      <th>2</th>\n",
       "      <td>15/9-F-11 A</td>\n",
       "      <td>2583.1</td>\n",
       "      <td>58.9230</td>\n",
       "      <td>2.3210</td>\n",
       "      <td>0.3700</td>\n",
       "      <td>6.7760</td>\n",
       "      <td>108.2310</td>\n",
       "      <td>261.0670</td>\n",
       "      <td>0.7050</td>\n",
       "    </tr>\n",
       "    <tr>\n",
       "      <th>3</th>\n",
       "      <td>15/9-F-11 A</td>\n",
       "      <td>2583.2</td>\n",
       "      <td>57.3220</td>\n",
       "      <td>2.3120</td>\n",
       "      <td>0.3670</td>\n",
       "      <td>6.7220</td>\n",
       "      <td>108.4280</td>\n",
       "      <td>262.5100</td>\n",
       "      <td>0.6540</td>\n",
       "    </tr>\n",
       "    <tr>\n",
       "      <th>4</th>\n",
       "      <td>15/9-F-11 A</td>\n",
       "      <td>2583.3</td>\n",
       "      <td>53.0540</td>\n",
       "      <td>2.2980</td>\n",
       "      <td>0.3500</td>\n",
       "      <td>6.6380</td>\n",
       "      <td>108.2220</td>\n",
       "      <td>263.3600</td>\n",
       "      <td>0.6110</td>\n",
       "    </tr>\n",
       "    <tr>\n",
       "      <th>...</th>\n",
       "      <td>...</td>\n",
       "      <td>...</td>\n",
       "      <td>...</td>\n",
       "      <td>...</td>\n",
       "      <td>...</td>\n",
       "      <td>...</td>\n",
       "      <td>...</td>\n",
       "      <td>...</td>\n",
       "      <td>...</td>\n",
       "    </tr>\n",
       "    <tr>\n",
       "      <th>24106</th>\n",
       "      <td>15/9-F-1 A</td>\n",
       "      <td>3641.4</td>\n",
       "      <td>120.1702</td>\n",
       "      <td>2.6282</td>\n",
       "      <td>0.2050</td>\n",
       "      <td>7.1941</td>\n",
       "      <td>74.0343</td>\n",
       "      <td>131.1953</td>\n",
       "      <td>2.6042</td>\n",
       "    </tr>\n",
       "    <tr>\n",
       "      <th>24107</th>\n",
       "      <td>15/9-F-1 A</td>\n",
       "      <td>3641.5</td>\n",
       "      <td>121.1039</td>\n",
       "      <td>2.6320</td>\n",
       "      <td>0.2036</td>\n",
       "      <td>7.1741</td>\n",
       "      <td>74.1741</td>\n",
       "      <td>131.6474</td>\n",
       "      <td>2.5379</td>\n",
       "    </tr>\n",
       "    <tr>\n",
       "      <th>24108</th>\n",
       "      <td>15/9-F-1 A</td>\n",
       "      <td>3641.6</td>\n",
       "      <td>120.5899</td>\n",
       "      <td>2.6344</td>\n",
       "      <td>0.2009</td>\n",
       "      <td>7.1429</td>\n",
       "      <td>74.3111</td>\n",
       "      <td>132.0925</td>\n",
       "      <td>2.5140</td>\n",
       "    </tr>\n",
       "    <tr>\n",
       "      <th>24109</th>\n",
       "      <td>15/9-F-1 A</td>\n",
       "      <td>3641.7</td>\n",
       "      <td>120.4854</td>\n",
       "      <td>2.6337</td>\n",
       "      <td>0.1973</td>\n",
       "      <td>7.0911</td>\n",
       "      <td>74.4395</td>\n",
       "      <td>132.4320</td>\n",
       "      <td>2.4805</td>\n",
       "    </tr>\n",
       "    <tr>\n",
       "      <th>24110</th>\n",
       "      <td>15/9-F-1 A</td>\n",
       "      <td>3641.8</td>\n",
       "      <td>120.2856</td>\n",
       "      <td>2.6295</td>\n",
       "      <td>0.1930</td>\n",
       "      <td>7.0064</td>\n",
       "      <td>74.5584</td>\n",
       "      <td>132.6560</td>\n",
       "      <td>2.4754</td>\n",
       "    </tr>\n",
       "  </tbody>\n",
       "</table>\n",
       "<p>24111 rows × 9 columns</p>\n",
       "</div>"
      ],
      "text/plain": [
       "              WELL   DEPTH        GR    RHOB    NPHI     PEF        DT  \\\n",
       "0      15/9-F-11 A  2582.9   55.1860  2.3260  0.3520  6.8290  107.0670   \n",
       "1      15/9-F-11 A  2583.0   57.0150  2.3250  0.3640  6.8100  107.8100   \n",
       "2      15/9-F-11 A  2583.1   58.9230  2.3210  0.3700  6.7760  108.2310   \n",
       "3      15/9-F-11 A  2583.2   57.3220  2.3120  0.3670  6.7220  108.4280   \n",
       "4      15/9-F-11 A  2583.3   53.0540  2.2980  0.3500  6.6380  108.2220   \n",
       "...            ...     ...       ...     ...     ...     ...       ...   \n",
       "24106   15/9-F-1 A  3641.4  120.1702  2.6282  0.2050  7.1941   74.0343   \n",
       "24107   15/9-F-1 A  3641.5  121.1039  2.6320  0.2036  7.1741   74.1741   \n",
       "24108   15/9-F-1 A  3641.6  120.5899  2.6344  0.2009  7.1429   74.3111   \n",
       "24109   15/9-F-1 A  3641.7  120.4854  2.6337  0.1973  7.0911   74.4395   \n",
       "24110   15/9-F-1 A  3641.8  120.2856  2.6295  0.1930  7.0064   74.5584   \n",
       "\n",
       "            DTS      RT  \n",
       "0      261.0360  0.7810  \n",
       "1      260.1610  0.7720  \n",
       "2      261.0670  0.7050  \n",
       "3      262.5100  0.6540  \n",
       "4      263.3600  0.6110  \n",
       "...         ...     ...  \n",
       "24106  131.1953  2.6042  \n",
       "24107  131.6474  2.5379  \n",
       "24108  132.0925  2.5140  \n",
       "24109  132.4320  2.4805  \n",
       "24110  132.6560  2.4754  \n",
       "\n",
       "[24111 rows x 9 columns]"
      ]
     },
     "execution_count": 3,
     "metadata": {},
     "output_type": "execute_result"
    }
   ],
   "source": [
    "df"
   ]
  },
  {
   "cell_type": "code",
   "execution_count": 4,
   "id": "b722a924-b2be-46b7-b68e-c10b6cc0cdab",
   "metadata": {
    "execution": {
     "iopub.execute_input": "2023-07-20T09:46:46.291340Z",
     "iopub.status.busy": "2023-07-20T09:46:46.290878Z",
     "iopub.status.idle": "2023-07-20T09:46:46.932211Z",
     "shell.execute_reply": "2023-07-20T09:46:46.931097Z",
     "shell.execute_reply.started": "2023-07-20T09:46:46.291265Z"
    },
    "tags": []
   },
   "outputs": [
    {
     "data": {
      "text/plain": [
       "<AxesSubplot:>"
      ]
     },
     "execution_count": 4,
     "metadata": {},
     "output_type": "execute_result"
    },
    {
     "data": {
      "image/png": "[encoded data removed]",
      "text/plain": [
       "<Figure size 1728x720 with 3 Axes>"
      ]
     },
     "metadata": {
      "needs_background": "light"
     },
     "output_type": "display_data"
    }
   ],
   "source": [
    "msno.bar(df)"
   ]
  },
  {
   "cell_type": "code",
   "execution_count": 5,
   "id": "4df553cb",
   "metadata": {},
   "outputs": [
    {
     "data": {
      "text/html": [
       "<div>\n",
       "<style scoped>\n",
       "    .dataframe tbody tr th:only-of-type {\n",
       "        vertical-align: middle;\n",
       "    }\n",
       "\n",
       "    .dataframe tbody tr th {\n",
       "        vertical-align: top;\n",
       "    }\n",
       "\n",
       "    .dataframe thead th {\n",
       "        text-align: right;\n",
       "    }\n",
       "</style>\n",
       "<table border=\"1\" class=\"dataframe\">\n",
       "  <thead>\n",
       "    <tr style=\"text-align: right;\">\n",
       "      <th></th>\n",
       "      <th>DEPTH</th>\n",
       "      <th>GR</th>\n",
       "      <th>RHOB</th>\n",
       "      <th>NPHI</th>\n",
       "      <th>PEF</th>\n",
       "      <th>DT</th>\n",
       "      <th>DTS</th>\n",
       "      <th>RT</th>\n",
       "    </tr>\n",
       "  </thead>\n",
       "  <tbody>\n",
       "    <tr>\n",
       "      <th>count</th>\n",
       "      <td>24111.00000</td>\n",
       "      <td>24111.000000</td>\n",
       "      <td>24111.000000</td>\n",
       "      <td>24111.000000</td>\n",
       "      <td>24111.000000</td>\n",
       "      <td>24111.000000</td>\n",
       "      <td>24111.000000</td>\n",
       "      <td>24111.000000</td>\n",
       "    </tr>\n",
       "    <tr>\n",
       "      <th>mean</th>\n",
       "      <td>3155.72970</td>\n",
       "      <td>39.451638</td>\n",
       "      <td>2.478318</td>\n",
       "      <td>0.164214</td>\n",
       "      <td>7.015495</td>\n",
       "      <td>77.040413</td>\n",
       "      <td>142.740826</td>\n",
       "      <td>53.625222</td>\n",
       "    </tr>\n",
       "    <tr>\n",
       "      <th>std</th>\n",
       "      <td>298.56756</td>\n",
       "      <td>52.785853</td>\n",
       "      <td>0.142745</td>\n",
       "      <td>0.091454</td>\n",
       "      <td>1.182256</td>\n",
       "      <td>13.236181</td>\n",
       "      <td>35.143429</td>\n",
       "      <td>1640.140700</td>\n",
       "    </tr>\n",
       "    <tr>\n",
       "      <th>min</th>\n",
       "      <td>2582.90000</td>\n",
       "      <td>0.852000</td>\n",
       "      <td>1.980600</td>\n",
       "      <td>0.010000</td>\n",
       "      <td>4.297800</td>\n",
       "      <td>53.165000</td>\n",
       "      <td>83.574000</td>\n",
       "      <td>0.103000</td>\n",
       "    </tr>\n",
       "    <tr>\n",
       "      <th>25%</th>\n",
       "      <td>2908.05000</td>\n",
       "      <td>10.140250</td>\n",
       "      <td>2.408150</td>\n",
       "      <td>0.099000</td>\n",
       "      <td>6.094400</td>\n",
       "      <td>67.434250</td>\n",
       "      <td>121.526950</td>\n",
       "      <td>1.504850</td>\n",
       "    </tr>\n",
       "    <tr>\n",
       "      <th>50%</th>\n",
       "      <td>3174.80000</td>\n",
       "      <td>29.648000</td>\n",
       "      <td>2.529000</td>\n",
       "      <td>0.141400</td>\n",
       "      <td>7.362000</td>\n",
       "      <td>73.507100</td>\n",
       "      <td>132.383600</td>\n",
       "      <td>2.859500</td>\n",
       "    </tr>\n",
       "    <tr>\n",
       "      <th>75%</th>\n",
       "      <td>3388.30000</td>\n",
       "      <td>47.540700</td>\n",
       "      <td>2.579000</td>\n",
       "      <td>0.208000</td>\n",
       "      <td>7.953000</td>\n",
       "      <td>84.958950</td>\n",
       "      <td>147.026500</td>\n",
       "      <td>4.535350</td>\n",
       "    </tr>\n",
       "    <tr>\n",
       "      <th>max</th>\n",
       "      <td>3723.10000</td>\n",
       "      <td>1124.403000</td>\n",
       "      <td>3.051700</td>\n",
       "      <td>0.593200</td>\n",
       "      <td>13.841000</td>\n",
       "      <td>126.827000</td>\n",
       "      <td>343.944000</td>\n",
       "      <td>62290.770000</td>\n",
       "    </tr>\n",
       "  </tbody>\n",
       "</table>\n",
       "</div>"
      ],
      "text/plain": [
       "             DEPTH            GR          RHOB          NPHI           PEF  \\\n",
       "count  24111.00000  24111.000000  24111.000000  24111.000000  24111.000000   \n",
       "mean    3155.72970     39.451638      2.478318      0.164214      7.015495   \n",
       "std      298.56756     52.785853      0.142745      0.091454      1.182256   \n",
       "min     2582.90000      0.852000      1.980600      0.010000      4.297800   \n",
       "25%     2908.05000     10.140250      2.408150      0.099000      6.094400   \n",
       "50%     3174.80000     29.648000      2.529000      0.141400      7.362000   \n",
       "75%     3388.30000     47.540700      2.579000      0.208000      7.953000   \n",
       "max     3723.10000   1124.403000      3.051700      0.593200     13.841000   \n",
       "\n",
       "                 DT           DTS            RT  \n",
       "count  24111.000000  24111.000000  24111.000000  \n",
       "mean      77.040413    142.740826     53.625222  \n",
       "std       13.236181     35.143429   1640.140700  \n",
       "min       53.165000     83.574000      0.103000  \n",
       "25%       67.434250    121.526950      1.504850  \n",
       "50%       73.507100    132.383600      2.859500  \n",
       "75%       84.958950    147.026500      4.535350  \n",
       "max      126.827000    343.944000  62290.770000  "
      ]
     },
     "execution_count": 5,
     "metadata": {},
     "output_type": "execute_result"
    }
   ],
   "source": [
    "df.describe()"
   ]
  },
  {
   "cell_type": "code",
   "execution_count": 6,
   "id": "3cd60ef4-544b-4481-a4ec-daa0362503f8",
   "metadata": {
    "execution": {
     "iopub.execute_input": "2023-07-20T09:47:34.938504Z",
     "iopub.status.busy": "2023-07-20T09:47:34.938110Z",
     "iopub.status.idle": "2023-07-20T09:47:34.944216Z",
     "shell.execute_reply": "2023-07-20T09:47:34.943369Z",
     "shell.execute_reply.started": "2023-07-20T09:47:34.938474Z"
    },
    "tags": []
   },
   "outputs": [],
   "source": [
    "X = df[['DTS', 'GR', 'NPHI', 'PEF', 'DT']]\n",
    "y = df['RHOB']"
   ]
  },
  {
   "cell_type": "code",
   "execution_count": 7,
   "id": "cd476d22-8016-42e4-8066-3f393db58281",
   "metadata": {
    "execution": {
     "iopub.execute_input": "2023-07-20T09:47:36.675946Z",
     "iopub.status.busy": "2023-07-20T09:47:36.675573Z",
     "iopub.status.idle": "2023-07-20T09:47:36.684402Z",
     "shell.execute_reply": "2023-07-20T09:47:36.683162Z",
     "shell.execute_reply.started": "2023-07-20T09:47:36.675921Z"
    },
    "tags": []
   },
   "outputs": [],
   "source": [
    "X_train, X_test, y_train, y_test = train_test_split(X, y, test_size=0.3)"
   ]
  },
  {
   "cell_type": "code",
   "execution_count": 8,
   "id": "8ce74178-3182-4159-8190-20ddff007145",
   "metadata": {
    "execution": {
     "iopub.execute_input": "2023-07-20T09:47:37.627060Z",
     "iopub.status.busy": "2023-07-20T09:47:37.626314Z",
     "iopub.status.idle": "2023-07-20T09:47:37.634116Z",
     "shell.execute_reply": "2023-07-20T09:47:37.632857Z",
     "shell.execute_reply.started": "2023-07-20T09:47:37.627029Z"
    },
    "tags": []
   },
   "outputs": [
    {
     "data": {
      "text/plain": [
       "(16877, 7234)"
      ]
     },
     "execution_count": 8,
     "metadata": {},
     "output_type": "execute_result"
    }
   ],
   "source": [
    "len(X_train), len(X_test)"
   ]
  },
  {
   "cell_type": "code",
   "execution_count": 16,
   "id": "5ac8b289-4ad5-4c89-9bc9-1f7cb453ecbb",
   "metadata": {
    "execution": {
     "iopub.execute_input": "2023-07-20T10:24:58.519695Z",
     "iopub.status.busy": "2023-07-20T10:24:58.518886Z",
     "iopub.status.idle": "2023-07-20T10:25:22.862461Z",
     "shell.execute_reply": "2023-07-20T10:25:22.861128Z",
     "shell.execute_reply.started": "2023-07-20T10:24:58.519613Z"
    },
    "tags": []
   },
   "outputs": [
    {
     "name": "stdout",
     "output_type": "stream",
     "text": [
      "Epoch 1/30\n",
      "528/528 [==============================] - 2s 1ms/step - loss: 3.0492 - mae: 3.0492\n",
      "Epoch 2/30\n",
      "528/528 [==============================] - 1s 2ms/step - loss: 0.1638 - mae: 0.1638\n",
      "Epoch 3/30\n",
      "528/528 [==============================] - 1s 1ms/step - loss: 0.1453 - mae: 0.1453\n",
      "Epoch 4/30\n",
      "528/528 [==============================] - 1s 1ms/step - loss: 0.1386 - mae: 0.1386\n",
      "Epoch 5/30\n",
      "528/528 [==============================] - 1s 1ms/step - loss: 0.1183 - mae: 0.1183\n",
      "Epoch 6/30\n",
      "528/528 [==============================] - 1s 1ms/step - loss: 0.1220 - mae: 0.1220\n",
      "Epoch 7/30\n",
      "528/528 [==============================] - 1s 2ms/step - loss: 0.1153 - mae: 0.1153\n",
      "Epoch 8/30\n",
      "528/528 [==============================] - 1s 1ms/step - loss: 0.1058 - mae: 0.1058\n",
      "Epoch 9/30\n",
      "528/528 [==============================] - 1s 2ms/step - loss: 0.0988 - mae: 0.0988\n",
      "Epoch 10/30\n",
      "528/528 [==============================] - 1s 1ms/step - loss: 0.0993 - mae: 0.0993\n",
      "Epoch 11/30\n",
      "528/528 [==============================] - 1s 1ms/step - loss: 0.0905 - mae: 0.0905\n",
      "Epoch 12/30\n",
      "528/528 [==============================] - 1s 1ms/step - loss: 0.0895 - mae: 0.0895\n",
      "Epoch 13/30\n",
      "528/528 [==============================] - 1s 1ms/step - loss: 0.0851 - mae: 0.0851\n",
      "Epoch 14/30\n",
      "528/528 [==============================] - 1s 2ms/step - loss: 0.0893 - mae: 0.0893\n",
      "Epoch 15/30\n",
      "528/528 [==============================] - 1s 2ms/step - loss: 0.0843 - mae: 0.0843\n",
      "Epoch 16/30\n",
      "528/528 [==============================] - 1s 1ms/step - loss: 0.0834 - mae: 0.0834\n",
      "Epoch 17/30\n",
      "528/528 [==============================] - 1s 1ms/step - loss: 0.0886 - mae: 0.0886\n",
      "Epoch 18/30\n",
      "528/528 [==============================] - 1s 1ms/step - loss: 0.0790 - mae: 0.0790\n",
      "Epoch 19/30\n",
      "528/528 [==============================] - 1s 1ms/step - loss: 0.0841 - mae: 0.0841\n",
      "Epoch 20/30\n",
      "528/528 [==============================] - 1s 2ms/step - loss: 0.0784 - mae: 0.0784\n",
      "Epoch 21/30\n",
      "528/528 [==============================] - 1s 1ms/step - loss: 0.0772 - mae: 0.0772\n",
      "Epoch 22/30\n",
      "528/528 [==============================] - 1s 1ms/step - loss: 0.0817 - mae: 0.0817\n",
      "Epoch 23/30\n",
      "528/528 [==============================] - 1s 1ms/step - loss: 0.0843 - mae: 0.0843\n",
      "Epoch 24/30\n",
      "528/528 [==============================] - 1s 1ms/step - loss: 0.0804 - mae: 0.0804\n",
      "Epoch 25/30\n",
      "528/528 [==============================] - 1s 1ms/step - loss: 0.0671 - mae: 0.0671\n",
      "Epoch 26/30\n",
      "528/528 [==============================] - 1s 1ms/step - loss: 0.0762 - mae: 0.0762\n",
      "Epoch 27/30\n",
      "528/528 [==============================] - 1s 2ms/step - loss: 0.0740 - mae: 0.0740\n",
      "Epoch 28/30\n",
      "528/528 [==============================] - 1s 1ms/step - loss: 0.0759 - mae: 0.0759\n",
      "Epoch 29/30\n",
      "528/528 [==============================] - 1s 1ms/step - loss: 0.0761 - mae: 0.0761\n",
      "Epoch 30/30\n",
      "528/528 [==============================] - 1s 1ms/step - loss: 0.0698 - mae: 0.0698\n"
     ]
    }
   ],
   "source": [
    "# Create a model\n",
    "model = tf.keras.Sequential([\n",
    "    tf.keras.layers.Dense(8, activation='relu'),\n",
    "    tf.keras.layers.Dense(1)\n",
    "])\n",
    "\n",
    "# Compile model\n",
    "model.compile(loss='mae',\n",
    "             optimizer='Adam',\n",
    "             metrics='mae')\n",
    "\n",
    "# Fit the model\n",
    "history = model.fit(X_train, y_train, epochs=30)"
   ]
  },
  {
   "cell_type": "code",
   "execution_count": 17,
   "id": "c8fe05ab-aa4a-49b9-b476-8bf30fc81b19",
   "metadata": {
    "execution": {
     "iopub.execute_input": "2023-07-20T10:25:34.530177Z",
     "iopub.status.busy": "2023-07-20T10:25:34.529561Z",
     "iopub.status.idle": "2023-07-20T10:25:34.715192Z",
     "shell.execute_reply": "2023-07-20T10:25:34.714302Z",
     "shell.execute_reply.started": "2023-07-20T10:25:34.530151Z"
    },
    "tags": []
   },
   "outputs": [
    {
     "data": {
      "text/plain": [
       "Text(0, 0.5, 'Mean Absolute Error (MAE)')"
      ]
     },
     "execution_count": 17,
     "metadata": {},
     "output_type": "execute_result"
    },
    {
     "data": {
      "text/plain": [
       "<Figure size 720x576 with 0 Axes>"
      ]
     },
     "metadata": {},
     "output_type": "display_data"
    },
    {
     "data": {
      "image/png": "[encoded data removed]",
      "text/plain": [
       "<Figure size 432x288 with 1 Axes>"
      ]
     },
     "metadata": {
      "needs_background": "light"
     },
     "output_type": "display_data"
    }
   ],
   "source": [
    "plt.figure(figsize=(10, 8))\n",
    "pd.DataFrame(history.history).plot()\n",
    "plt.xlabel('Epochs')\n",
    "plt.ylabel('Mean Absolute Error (MAE)')\n"
   ]
  },
  {
   "cell_type": "code",
   "execution_count": 18,
   "id": "2b1b4abc-ade1-46d5-99b1-5dc071f9a5a4",
   "metadata": {
    "execution": {
     "iopub.execute_input": "2023-07-20T10:25:44.069246Z",
     "iopub.status.busy": "2023-07-20T10:25:44.068908Z",
     "iopub.status.idle": "2023-07-20T10:25:44.515819Z",
     "shell.execute_reply": "2023-07-20T10:25:44.514727Z",
     "shell.execute_reply.started": "2023-07-20T10:25:44.069223Z"
    },
    "tags": []
   },
   "outputs": [
    {
     "name": "stdout",
     "output_type": "stream",
     "text": [
      "227/227 [==============================] - 0s 1ms/step\n"
     ]
    }
   ],
   "source": [
    "y_pred = model.predict(X_test)"
   ]
  },
  {
   "cell_type": "code",
   "execution_count": 19,
   "id": "6c30b180-f4ae-4775-806d-3d5facde1b30",
   "metadata": {
    "execution": {
     "iopub.execute_input": "2023-07-20T10:25:46.913503Z",
     "iopub.status.busy": "2023-07-20T10:25:46.913009Z",
     "iopub.status.idle": "2023-07-20T10:25:46.926428Z",
     "shell.execute_reply": "2023-07-20T10:25:46.925379Z",
     "shell.execute_reply.started": "2023-07-20T10:25:46.913473Z"
    },
    "tags": []
   },
   "outputs": [
    {
     "data": {
      "text/plain": [
       "(0.058553956, 0.08680684)"
      ]
     },
     "execution_count": 19,
     "metadata": {},
     "output_type": "execute_result"
    }
   ],
   "source": [
    "mae_1 = tf.keras.metrics.mae(y_test, tf.squeeze(y_pred)).numpy()\n",
    "rmse_1 = np.sqrt(tf.keras.metrics.mse(y_test, tf.squeeze(y_pred)).numpy())\n",
    "mae_1, rmse_1"
   ]
  },
  {
   "cell_type": "code",
   "execution_count": 20,
   "id": "829282f5-4967-4043-becc-bd2ff079e1db",
   "metadata": {
    "execution": {
     "iopub.execute_input": "2023-07-20T10:30:31.521919Z",
     "iopub.status.busy": "2023-07-20T10:30:31.521556Z",
     "iopub.status.idle": "2023-07-20T10:30:31.528092Z",
     "shell.execute_reply": "2023-07-20T10:30:31.526985Z",
     "shell.execute_reply.started": "2023-07-20T10:30:31.521893Z"
    },
    "tags": []
   },
   "outputs": [],
   "source": [
    "def create_scatter_comparison(ytrue, ypreds):\n",
    "    minscale = min(ytrue.min(), ypreds.min())*0.95\n",
    "    maxscale = max(ytrue.max(), ypreds.max())*1.05\n",
    "    plt.figure(figsize=(10, 10))\n",
    "    plt.scatter(ytrue, ypreds)\n",
    "    \n",
    "    # Create a 1:1 relationship line\n",
    "    line_points = np.linspace(minscale, maxscale, 100) \n",
    "    plt.plot(line_points, line_points, c='red')\n",
    "    \n",
    "    plt.xlim(minscale, maxscale)\n",
    "    plt.ylim(minscale, maxscale)\n",
    "    plt.xlabel('Actual Measurements')\n",
    "    plt.ylabel('Predicted Measurements')\n",
    "    plt.show()"
   ]
  },
  {
   "cell_type": "code",
   "execution_count": 21,
   "id": "90e94cab-0c26-49df-9bcf-9782cee7ca52",
   "metadata": {
    "execution": {
     "iopub.execute_input": "2023-07-20T10:30:31.889772Z",
     "iopub.status.busy": "2023-07-20T10:30:31.889420Z",
     "iopub.status.idle": "2023-07-20T10:30:32.099434Z",
     "shell.execute_reply": "2023-07-20T10:30:32.098131Z",
     "shell.execute_reply.started": "2023-07-20T10:30:31.889745Z"
    },
    "tags": []
   },
   "outputs": [
    {
     "data": {
      "image/png": "[encoded data removed]",
      "text/plain": [
       "<Figure size 720x720 with 1 Axes>"
      ]
     },
     "metadata": {
      "needs_background": "light"
     },
     "output_type": "display_data"
    },
    {
     "data": {
      "text/plain": [
       "(1.5, 3.5)"
      ]
     },
     "execution_count": 21,
     "metadata": {},
     "output_type": "execute_result"
    },
    {
     "data": {
      "image/png": "[encoded data removed]",
      "text/plain": [
       "<Figure size 432x288 with 1 Axes>"
      ]
     },
     "metadata": {
      "needs_background": "light"
     },
     "output_type": "display_data"
    }
   ],
   "source": [
    "create_scatter_comparison(y_test, y_pred)\n",
    "plt.xlim(1.5, 3.5)\n",
    "plt.ylim(1.5, 3.5)"
   ]
  },
  {
   "cell_type": "markdown",
   "id": "5f788233-5cee-4c7b-959e-e98acfad900d",
   "metadata": {},
   "source": [
    "# Improving Model With Normalisation"
   ]
  },
  {
   "cell_type": "code",
   "execution_count": 32,
   "id": "ebe7eabb-9bc5-406b-b003-b05f268b4fba",
   "metadata": {
    "execution": {
     "iopub.execute_input": "2023-07-20T10:31:43.844155Z",
     "iopub.status.busy": "2023-07-20T10:31:43.843782Z",
     "iopub.status.idle": "2023-07-20T10:31:43.853323Z",
     "shell.execute_reply": "2023-07-20T10:31:43.852375Z",
     "shell.execute_reply.started": "2023-07-20T10:31:43.844126Z"
    },
    "tags": []
   },
   "outputs": [],
   "source": [
    "from sklearn.preprocessing import MinMaxScaler"
   ]
  },
  {
   "cell_type": "code",
   "execution_count": 33,
   "id": "01cca7bd-34b7-487c-b33f-4e321342430f",
   "metadata": {
    "execution": {
     "iopub.execute_input": "2023-07-20T10:31:44.445162Z",
     "iopub.status.busy": "2023-07-20T10:31:44.444783Z",
     "iopub.status.idle": "2023-07-20T10:31:44.449057Z",
     "shell.execute_reply": "2023-07-20T10:31:44.448165Z",
     "shell.execute_reply.started": "2023-07-20T10:31:44.445137Z"
    },
    "tags": []
   },
   "outputs": [],
   "source": [
    "scaler = MinMaxScaler()"
   ]
  },
  {
   "cell_type": "code",
   "execution_count": 34,
   "id": "33fc3f9f-3796-4f49-8bb6-58f199625b3e",
   "metadata": {
    "execution": {
     "iopub.execute_input": "2023-07-20T10:31:46.446043Z",
     "iopub.status.busy": "2023-07-20T10:31:46.445327Z",
     "iopub.status.idle": "2023-07-20T10:31:46.461657Z",
     "shell.execute_reply": "2023-07-20T10:31:46.460441Z",
     "shell.execute_reply.started": "2023-07-20T10:31:46.445990Z"
    },
    "tags": []
   },
   "outputs": [],
   "source": [
    "X_train_s = scaler.fit_transform(X_train)\n",
    "X_test_s = scaler.transform(X_test)"
   ]
  },
  {
   "cell_type": "code",
   "execution_count": 43,
   "id": "1fba34c2-7c95-46bf-b99c-ffbd5a01c3ef",
   "metadata": {
    "collapsed": true,
    "execution": {
     "iopub.execute_input": "2023-07-20T10:31:50.103147Z",
     "iopub.status.busy": "2023-07-20T10:31:50.102786Z",
     "iopub.status.idle": "2023-07-20T10:32:15.249894Z",
     "shell.execute_reply": "2023-07-20T10:32:15.248724Z",
     "shell.execute_reply.started": "2023-07-20T10:31:50.103120Z"
    },
    "jupyter": {
     "outputs_hidden": true
    },
    "tags": []
   },
   "outputs": [
    {
     "name": "stdout",
     "output_type": "stream",
     "text": [
      "Epoch 1/30\n",
      "528/528 [==============================] - 2s 2ms/step - loss: 0.7282 - mae: 0.7282\n",
      "Epoch 2/30\n",
      "528/528 [==============================] - 1s 1ms/step - loss: 0.1626 - mae: 0.1626\n",
      "Epoch 3/30\n",
      "528/528 [==============================] - 1s 1ms/step - loss: 0.0774 - mae: 0.0774\n",
      "Epoch 4/30\n",
      "528/528 [==============================] - 1s 1ms/step - loss: 0.0480 - mae: 0.0480\n",
      "Epoch 5/30\n",
      "528/528 [==============================] - 1s 1ms/step - loss: 0.0378 - mae: 0.0378\n",
      "Epoch 6/30\n",
      "528/528 [==============================] - 1s 1ms/step - loss: 0.0362 - mae: 0.0362\n",
      "Epoch 7/30\n",
      "528/528 [==============================] - 1s 1ms/step - loss: 0.0356 - mae: 0.0356\n",
      "Epoch 8/30\n",
      "528/528 [==============================] - 1s 1ms/step - loss: 0.0352 - mae: 0.0352\n",
      "Epoch 9/30\n",
      "528/528 [==============================] - 1s 1ms/step - loss: 0.0349 - mae: 0.0349\n",
      "Epoch 10/30\n",
      "528/528 [==============================] - 1s 1ms/step - loss: 0.0348 - mae: 0.0348\n",
      "Epoch 11/30\n",
      "528/528 [==============================] - 1s 1ms/step - loss: 0.0345 - mae: 0.0345\n",
      "Epoch 12/30\n",
      "528/528 [==============================] - 1s 1ms/step - loss: 0.0344 - mae: 0.0344\n",
      "Epoch 13/30\n",
      "528/528 [==============================] - 1s 1ms/step - loss: 0.0343 - mae: 0.0343\n",
      "Epoch 14/30\n",
      "528/528 [==============================] - 1s 1ms/step - loss: 0.0342 - mae: 0.0342\n",
      "Epoch 15/30\n",
      "528/528 [==============================] - 1s 1ms/step - loss: 0.0342 - mae: 0.0342\n",
      "Epoch 16/30\n",
      "528/528 [==============================] - 1s 1ms/step - loss: 0.0341 - mae: 0.0341\n",
      "Epoch 17/30\n",
      "528/528 [==============================] - 1s 1ms/step - loss: 0.0341 - mae: 0.0341\n",
      "Epoch 18/30\n",
      "528/528 [==============================] - 1s 1ms/step - loss: 0.0341 - mae: 0.0341\n",
      "Epoch 19/30\n",
      "528/528 [==============================] - 1s 1ms/step - loss: 0.0340 - mae: 0.0340\n",
      "Epoch 20/30\n",
      "528/528 [==============================] - 1s 1ms/step - loss: 0.0340 - mae: 0.0340\n",
      "Epoch 21/30\n",
      "528/528 [==============================] - 1s 1ms/step - loss: 0.0339 - mae: 0.0339\n",
      "Epoch 22/30\n",
      "528/528 [==============================] - 1s 1ms/step - loss: 0.0340 - mae: 0.0340\n",
      "Epoch 23/30\n",
      "528/528 [==============================] - 1s 1ms/step - loss: 0.0339 - mae: 0.0339\n",
      "Epoch 24/30\n",
      "528/528 [==============================] - 1s 1ms/step - loss: 0.0339 - mae: 0.0339\n",
      "Epoch 25/30\n",
      "528/528 [==============================] - 1s 1ms/step - loss: 0.0338 - mae: 0.0338\n",
      "Epoch 26/30\n",
      "528/528 [==============================] - 1s 1ms/step - loss: 0.0340 - mae: 0.0340\n",
      "Epoch 27/30\n",
      "528/528 [==============================] - 1s 1ms/step - loss: 0.0340 - mae: 0.0340\n",
      "Epoch 28/30\n",
      "528/528 [==============================] - 1s 1ms/step - loss: 0.0337 - mae: 0.0337\n",
      "Epoch 29/30\n",
      "528/528 [==============================] - 1s 1ms/step - loss: 0.0339 - mae: 0.0339\n",
      "Epoch 30/30\n",
      "528/528 [==============================] - 1s 1ms/step - loss: 0.0339 - mae: 0.0339\n"
     ]
    }
   ],
   "source": [
    "# Create a model\n",
    "model = tf.keras.Sequential([\n",
    "    tf.keras.layers.Dense(8, activation='relu'),\n",
    "    tf.keras.layers.Dense(1)\n",
    "])\n",
    "\n",
    "# Compile model\n",
    "model.compile(loss='mae',\n",
    "             optimizer='Adam',\n",
    "             metrics='mae')\n",
    "\n",
    "# Fit the model\n",
    "history = model.fit(X_train_s, y_train, epochs=30)"
   ]
  },
  {
   "cell_type": "code",
   "execution_count": 44,
   "id": "d593163a-8a0b-40f1-a7e0-64ee6b0f1765",
   "metadata": {
    "execution": {
     "iopub.execute_input": "2023-07-20T10:32:53.012318Z",
     "iopub.status.busy": "2023-07-20T10:32:53.011722Z",
     "iopub.status.idle": "2023-07-20T10:32:53.207656Z",
     "shell.execute_reply": "2023-07-20T10:32:53.206756Z",
     "shell.execute_reply.started": "2023-07-20T10:32:53.012291Z"
    },
    "tags": []
   },
   "outputs": [
    {
     "data": {
      "text/plain": [
       "<AxesSubplot:>"
      ]
     },
     "execution_count": 44,
     "metadata": {},
     "output_type": "execute_result"
    },
    {
     "data": {
      "image/png": "[encoded data removed]",
      "text/plain": [
       "<Figure size 432x288 with 1 Axes>"
      ]
     },
     "metadata": {
      "needs_background": "light"
     },
     "output_type": "display_data"
    }
   ],
   "source": [
    "pd.DataFrame(history.history).plot()"
   ]
  },
  {
   "cell_type": "code",
   "execution_count": 45,
   "id": "99dd7c81-a593-4161-989c-40235f5e4e13",
   "metadata": {
    "execution": {
     "iopub.execute_input": "2023-07-20T10:35:36.713115Z",
     "iopub.status.busy": "2023-07-20T10:35:36.712756Z",
     "iopub.status.idle": "2023-07-20T10:35:37.106698Z",
     "shell.execute_reply": "2023-07-20T10:35:37.105839Z",
     "shell.execute_reply.started": "2023-07-20T10:35:36.713088Z"
    },
    "tags": []
   },
   "outputs": [
    {
     "name": "stdout",
     "output_type": "stream",
     "text": [
      "227/227 [==============================] - 0s 1ms/step\n"
     ]
    }
   ],
   "source": [
    "y_pred = model.predict(X_test_s)"
   ]
  },
  {
   "cell_type": "code",
   "execution_count": 46,
   "id": "961cdf50-b60e-4704-9c84-dcd4bfcb70d6",
   "metadata": {
    "execution": {
     "iopub.execute_input": "2023-07-20T10:35:37.661619Z",
     "iopub.status.busy": "2023-07-20T10:35:37.660889Z",
     "iopub.status.idle": "2023-07-20T10:35:37.671469Z",
     "shell.execute_reply": "2023-07-20T10:35:37.669996Z",
     "shell.execute_reply.started": "2023-07-20T10:35:37.661590Z"
    },
    "tags": []
   },
   "outputs": [
    {
     "data": {
      "text/plain": [
       "(0.03342951, 0.060196143)"
      ]
     },
     "execution_count": 46,
     "metadata": {},
     "output_type": "execute_result"
    }
   ],
   "source": [
    "mae_1 = tf.keras.metrics.mae(y_test, tf.squeeze(y_pred)).numpy()\n",
    "rmse_1 = np.sqrt(tf.keras.metrics.mse(y_test, tf.squeeze(y_pred)).numpy())\n",
    "mae_1, rmse_1"
   ]
  },
  {
   "cell_type": "code",
   "execution_count": 47,
   "id": "3364dd11-aee5-4d44-ae53-b6a0b7479a95",
   "metadata": {
    "execution": {
     "iopub.execute_input": "2023-07-20T10:36:06.261782Z",
     "iopub.status.busy": "2023-07-20T10:36:06.261343Z",
     "iopub.status.idle": "2023-07-20T10:36:06.461506Z",
     "shell.execute_reply": "2023-07-20T10:36:06.460621Z",
     "shell.execute_reply.started": "2023-07-20T10:36:06.261727Z"
    }
   },
   "outputs": [
    {
     "data": {
      "image/png": "[encoded data removed]",
      "text/plain": [
       "<Figure size 720x720 with 1 Axes>"
      ]
     },
     "metadata": {
      "needs_background": "light"
     },
     "output_type": "display_data"
    },
    {
     "data": {
      "text/plain": [
       "(1.5, 3.5)"
      ]
     },
     "execution_count": 47,
     "metadata": {},
     "output_type": "execute_result"
    },
    {
     "data": {
      "image/png": "[encoded data removed]",
      "text/plain": [
       "<Figure size 432x288 with 1 Axes>"
      ]
     },
     "metadata": {
      "needs_background": "light"
     },
     "output_type": "display_data"
    }
   ],
   "source": [
    "create_scatter_comparison(y_test, y_pred)\n",
    "plt.xlim(1.5, 3.5)\n",
    "plt.ylim(1.5, 3.5)"
   ]
  },
  {
   "cell_type": "code",
   "execution_count": null,
   "id": "37e2f444-b113-499f-a61e-18d101b3c70c",
   "metadata": {},
   "outputs": [],
   "source": []
  },
  {
   "cell_type": "code",
   "execution_count": 50,
   "id": "d9138c32-44a0-4203-8233-f7091c2ffc1a",
   "metadata": {
    "execution": {
     "iopub.execute_input": "2023-07-20T10:37:06.823030Z",
     "iopub.status.busy": "2023-07-20T10:37:06.822262Z",
     "iopub.status.idle": "2023-07-20T10:37:06.861385Z",
     "shell.execute_reply": "2023-07-20T10:37:06.859227Z",
     "shell.execute_reply.started": "2023-07-20T10:37:06.823003Z"
    },
    "tags": []
   },
   "outputs": [
    {
     "ename": "NameError",
     "evalue": "name 'y_train_s' is not defined",
     "output_type": "error",
     "traceback": [
      "\u001b[0;31m---------------------------------------------------------------------------\u001b[0m",
      "\u001b[0;31mNameError\u001b[0m                                 Traceback (most recent call last)",
      "Input \u001b[0;32mIn [50]\u001b[0m, in \u001b[0;36m<cell line: 13>\u001b[0;34m()\u001b[0m\n\u001b[1;32m      8\u001b[0m model\u001b[38;5;241m.\u001b[39mcompile(loss\u001b[38;5;241m=\u001b[39m\u001b[38;5;124m'\u001b[39m\u001b[38;5;124mmae\u001b[39m\u001b[38;5;124m'\u001b[39m,\n\u001b[1;32m      9\u001b[0m              optimizer\u001b[38;5;241m=\u001b[39m\u001b[38;5;124m'\u001b[39m\u001b[38;5;124mAdam\u001b[39m\u001b[38;5;124m'\u001b[39m,\n\u001b[1;32m     10\u001b[0m              metrics\u001b[38;5;241m=\u001b[39m\u001b[38;5;124m'\u001b[39m\u001b[38;5;124mmae\u001b[39m\u001b[38;5;124m'\u001b[39m)\n\u001b[1;32m     12\u001b[0m \u001b[38;5;66;03m# Fit the model\u001b[39;00m\n\u001b[0;32m---> 13\u001b[0m history \u001b[38;5;241m=\u001b[39m model\u001b[38;5;241m.\u001b[39mfit(X_train_s, \u001b[43my_train_s\u001b[49m, epochs\u001b[38;5;241m=\u001b[39m\u001b[38;5;241m200\u001b[39m, validation_data\u001b[38;5;241m=\u001b[39m(X_test_s, y_test))\n",
      "\u001b[0;31mNameError\u001b[0m: name 'y_train_s' is not defined"
     ]
    }
   ],
   "source": [
    "# Create a model\n",
    "model = tf.keras.Sequential([\n",
    "    tf.keras.layers.Dense(8, activation='relu'),\n",
    "    tf.keras.layers.Dense(1)\n",
    "])\n",
    "\n",
    "# Compile model\n",
    "model.compile(loss='mae',\n",
    "             optimizer='Adam',\n",
    "             metrics='mae')\n",
    "\n",
    "# Fit the model\n",
    "history = model.fit(X_train_s, y_train, epochs=200, validation_data=(X_test_s, y_test))"
   ]
  },
  {
   "cell_type": "code",
   "execution_count": 35,
   "id": "8cf5920d-6cd0-4c3a-be48-66745ebb0378",
   "metadata": {
    "execution": {
     "iopub.execute_input": "2023-07-19T08:00:31.987400Z",
     "iopub.status.busy": "2023-07-19T08:00:31.987033Z",
     "iopub.status.idle": "2023-07-19T08:00:32.196737Z",
     "shell.execute_reply": "2023-07-19T08:00:32.195510Z",
     "shell.execute_reply.started": "2023-07-19T08:00:31.987373Z"
    },
    "tags": []
   },
   "outputs": [
    {
     "data": {
      "text/plain": [
       "<AxesSubplot:>"
      ]
     },
     "execution_count": 35,
     "metadata": {},
     "output_type": "execute_result"
    },
    {
     "data": {
      "image/png": "[encoded data removed]",
      "text/plain": [
       "<Figure size 432x288 with 1 Axes>"
      ]
     },
     "metadata": {
      "needs_background": "light"
     },
     "output_type": "display_data"
    }
   ],
   "source": [
    "pd.DataFrame(history.history).plot()"
   ]
  },
  {
   "cell_type": "code",
   "execution_count": 36,
   "id": "e8d962c0-e06c-433e-ae5e-ee3a53eae49d",
   "metadata": {
    "execution": {
     "iopub.execute_input": "2023-07-19T08:00:34.605652Z",
     "iopub.status.busy": "2023-07-19T08:00:34.605288Z",
     "iopub.status.idle": "2023-07-19T08:00:34.769955Z",
     "shell.execute_reply": "2023-07-19T08:00:34.768774Z",
     "shell.execute_reply.started": "2023-07-19T08:00:34.605625Z"
    },
    "tags": []
   },
   "outputs": [
    {
     "name": "stdout",
     "output_type": "stream",
     "text": [
      "40/40 [==============================] - 0s 850us/step\n"
     ]
    }
   ],
   "source": [
    "y_pred_1 = model.predict(X_test_s)"
   ]
  },
  {
   "cell_type": "code",
   "execution_count": 37,
   "id": "139089d4-2f78-4d99-85e1-eae42580825a",
   "metadata": {
    "execution": {
     "iopub.execute_input": "2023-07-19T08:00:36.133285Z",
     "iopub.status.busy": "2023-07-19T08:00:36.132681Z",
     "iopub.status.idle": "2023-07-19T08:00:36.309955Z",
     "shell.execute_reply": "2023-07-19T08:00:36.309054Z",
     "shell.execute_reply.started": "2023-07-19T08:00:36.133258Z"
    },
    "tags": []
   },
   "outputs": [
    {
     "data": {
      "image/png": "[encoded data removed]",
      "text/plain": [
       "<Figure size 720x720 with 1 Axes>"
      ]
     },
     "metadata": {
      "needs_background": "light"
     },
     "output_type": "display_data"
    }
   ],
   "source": [
    "create_scatter_comparison(y_test, y_pred_1)"
   ]
  },
  {
   "cell_type": "code",
   "execution_count": null,
   "id": "86dc82a9-687c-448d-a706-94d823082319",
   "metadata": {},
   "outputs": [],
   "source": []
  },
  {
   "cell_type": "code",
   "execution_count": null,
   "id": "ce08e3e0-c729-41e0-8e25-859868f88f68",
   "metadata": {},
   "outputs": [],
   "source": []
  },
  {
   "cell_type": "code",
   "execution_count": 51,
   "id": "154d2c7b-cedf-4e32-8d23-000c8b4059a4",
   "metadata": {
    "execution": {
     "iopub.execute_input": "2023-07-20T10:37:26.095211Z",
     "iopub.status.busy": "2023-07-20T10:37:26.094829Z",
     "iopub.status.idle": "2023-07-20T10:39:01.646694Z",
     "shell.execute_reply": "2023-07-20T10:39:01.645823Z",
     "shell.execute_reply.started": "2023-07-20T10:37:26.095187Z"
    },
    "tags": []
   },
   "outputs": [
    {
     "name": "stdout",
     "output_type": "stream",
     "text": [
      "Epoch 1/100\n",
      "528/528 [==============================] - 2s 2ms/step - loss: 41.5552 - mae: 41.5552 - val_loss: 5592.0337 - val_mae: 5592.0337\n",
      "Epoch 2/100\n",
      "528/528 [==============================] - 1s 2ms/step - loss: 15.2828 - mae: 15.2828 - val_loss: 6584.9453 - val_mae: 6584.9453\n",
      "Epoch 3/100\n",
      "528/528 [==============================] - 1s 2ms/step - loss: 13.3521 - mae: 13.3521 - val_loss: 10321.4785 - val_mae: 10321.4785\n",
      "Epoch 4/100\n",
      "528/528 [==============================] - 1s 2ms/step - loss: 12.7324 - mae: 12.7324 - val_loss: 9871.4062 - val_mae: 9871.4062\n",
      "Epoch 5/100\n",
      "528/528 [==============================] - 1s 2ms/step - loss: 12.1478 - mae: 12.1478 - val_loss: 9715.2998 - val_mae: 9715.2998\n",
      "Epoch 6/100\n",
      "528/528 [==============================] - 1s 2ms/step - loss: 11.8029 - mae: 11.8029 - val_loss: 9559.2842 - val_mae: 9559.2842\n",
      "Epoch 7/100\n",
      "528/528 [==============================] - 1s 2ms/step - loss: 11.7332 - mae: 11.7332 - val_loss: 9617.8633 - val_mae: 9617.8633\n",
      "Epoch 8/100\n",
      "528/528 [==============================] - 1s 2ms/step - loss: 11.6973 - mae: 11.6973 - val_loss: 9156.6494 - val_mae: 9156.6494\n",
      "Epoch 9/100\n",
      "528/528 [==============================] - 1s 2ms/step - loss: 11.4134 - mae: 11.4134 - val_loss: 7191.3164 - val_mae: 7191.3164\n",
      "Epoch 10/100\n",
      "528/528 [==============================] - 1s 2ms/step - loss: 11.1490 - mae: 11.1490 - val_loss: 7768.3608 - val_mae: 7768.3608\n",
      "Epoch 11/100\n",
      "528/528 [==============================] - 1s 2ms/step - loss: 11.1000 - mae: 11.1000 - val_loss: 7373.9360 - val_mae: 7373.9360\n",
      "Epoch 12/100\n",
      "528/528 [==============================] - 1s 2ms/step - loss: 10.7109 - mae: 10.7109 - val_loss: 9310.6367 - val_mae: 9310.6367\n",
      "Epoch 13/100\n",
      "528/528 [==============================] - 1s 2ms/step - loss: 10.5737 - mae: 10.5737 - val_loss: 5760.2710 - val_mae: 5760.2710\n",
      "Epoch 14/100\n",
      "528/528 [==============================] - 1s 2ms/step - loss: 10.3160 - mae: 10.3160 - val_loss: 7198.8633 - val_mae: 7198.8633\n",
      "Epoch 15/100\n",
      "528/528 [==============================] - 1s 2ms/step - loss: 10.1917 - mae: 10.1917 - val_loss: 7713.0059 - val_mae: 7713.0059\n",
      "Epoch 16/100\n",
      "528/528 [==============================] - 1s 2ms/step - loss: 9.8274 - mae: 9.8274 - val_loss: 9293.9268 - val_mae: 9293.9268\n",
      "Epoch 17/100\n",
      "528/528 [==============================] - 1s 2ms/step - loss: 9.5690 - mae: 9.5690 - val_loss: 6316.5776 - val_mae: 6316.5776\n",
      "Epoch 18/100\n",
      "528/528 [==============================] - 1s 2ms/step - loss: 9.2392 - mae: 9.2392 - val_loss: 7750.2344 - val_mae: 7750.2344\n",
      "Epoch 19/100\n",
      "528/528 [==============================] - 1s 2ms/step - loss: 8.9657 - mae: 8.9657 - val_loss: 7290.1577 - val_mae: 7290.1577\n",
      "Epoch 20/100\n",
      "528/528 [==============================] - 1s 2ms/step - loss: 8.5489 - mae: 8.5489 - val_loss: 7467.2178 - val_mae: 7467.2178\n",
      "Epoch 21/100\n",
      "528/528 [==============================] - 1s 2ms/step - loss: 8.1987 - mae: 8.1987 - val_loss: 6094.3228 - val_mae: 6094.3228\n",
      "Epoch 22/100\n",
      "528/528 [==============================] - 1s 2ms/step - loss: 8.1478 - mae: 8.1478 - val_loss: 8338.6006 - val_mae: 8338.6006\n",
      "Epoch 23/100\n",
      "528/528 [==============================] - 1s 2ms/step - loss: 7.9526 - mae: 7.9526 - val_loss: 7943.6978 - val_mae: 7943.6978\n",
      "Epoch 24/100\n",
      "528/528 [==============================] - 1s 2ms/step - loss: 7.8997 - mae: 7.8997 - val_loss: 8510.3789 - val_mae: 8510.3789\n",
      "Epoch 25/100\n",
      "528/528 [==============================] - 1s 2ms/step - loss: 7.7752 - mae: 7.7752 - val_loss: 7360.8291 - val_mae: 7360.8291\n",
      "Epoch 26/100\n",
      "528/528 [==============================] - 1s 2ms/step - loss: 7.7523 - mae: 7.7523 - val_loss: 9145.0264 - val_mae: 9145.0264\n",
      "Epoch 27/100\n",
      "528/528 [==============================] - 1s 2ms/step - loss: 7.6073 - mae: 7.6073 - val_loss: 7980.3037 - val_mae: 7980.3037\n",
      "Epoch 28/100\n",
      "528/528 [==============================] - 1s 3ms/step - loss: 7.5506 - mae: 7.5506 - val_loss: 8522.7510 - val_mae: 8522.7510\n",
      "Epoch 29/100\n",
      "528/528 [==============================] - 1s 2ms/step - loss: 7.4105 - mae: 7.4105 - val_loss: 8422.5166 - val_mae: 8422.5166\n",
      "Epoch 30/100\n",
      "528/528 [==============================] - 1s 3ms/step - loss: 7.4041 - mae: 7.4041 - val_loss: 10218.9375 - val_mae: 10218.9375\n",
      "Epoch 31/100\n",
      "528/528 [==============================] - 2s 3ms/step - loss: 7.3201 - mae: 7.3201 - val_loss: 10812.5381 - val_mae: 10812.5381\n",
      "Epoch 32/100\n",
      "528/528 [==============================] - 1s 2ms/step - loss: 7.2275 - mae: 7.2275 - val_loss: 9754.3564 - val_mae: 9754.3564\n",
      "Epoch 33/100\n",
      "528/528 [==============================] - 1s 2ms/step - loss: 7.1550 - mae: 7.1550 - val_loss: 10123.2881 - val_mae: 10123.2881\n",
      "Epoch 34/100\n",
      "528/528 [==============================] - 1s 2ms/step - loss: 7.0801 - mae: 7.0801 - val_loss: 11016.7734 - val_mae: 11016.7734\n",
      "Epoch 35/100\n",
      "528/528 [==============================] - 1s 2ms/step - loss: 7.0505 - mae: 7.0505 - val_loss: 10576.7910 - val_mae: 10576.7910\n",
      "Epoch 36/100\n",
      "528/528 [==============================] - 1s 2ms/step - loss: 7.0798 - mae: 7.0798 - val_loss: 12782.2100 - val_mae: 12782.2100\n",
      "Epoch 37/100\n",
      "528/528 [==============================] - 1s 2ms/step - loss: 7.0136 - mae: 7.0136 - val_loss: 10662.5723 - val_mae: 10662.5723\n",
      "Epoch 38/100\n",
      "528/528 [==============================] - 1s 2ms/step - loss: 6.9599 - mae: 6.9599 - val_loss: 11614.8496 - val_mae: 11614.8496\n",
      "Epoch 39/100\n",
      "528/528 [==============================] - 1s 2ms/step - loss: 6.9127 - mae: 6.9127 - val_loss: 12488.5039 - val_mae: 12488.5039\n",
      "Epoch 40/100\n",
      "528/528 [==============================] - 1s 2ms/step - loss: 6.8524 - mae: 6.8524 - val_loss: 13013.7764 - val_mae: 13013.7764\n",
      "Epoch 41/100\n",
      "528/528 [==============================] - 1s 2ms/step - loss: 6.7675 - mae: 6.7675 - val_loss: 13069.2500 - val_mae: 13069.2500\n",
      "Epoch 42/100\n",
      "528/528 [==============================] - 1s 2ms/step - loss: 6.7692 - mae: 6.7692 - val_loss: 12296.4199 - val_mae: 12296.4199\n",
      "Epoch 43/100\n",
      "528/528 [==============================] - 1s 2ms/step - loss: 6.6898 - mae: 6.6898 - val_loss: 13301.5879 - val_mae: 13301.5879\n",
      "Epoch 44/100\n",
      "528/528 [==============================] - 1s 2ms/step - loss: 6.7252 - mae: 6.7252 - val_loss: 13044.2676 - val_mae: 13044.2676\n",
      "Epoch 45/100\n",
      "528/528 [==============================] - 1s 2ms/step - loss: 6.6700 - mae: 6.6700 - val_loss: 12792.7080 - val_mae: 12792.7080\n",
      "Epoch 46/100\n",
      "528/528 [==============================] - 1s 2ms/step - loss: 6.6534 - mae: 6.6534 - val_loss: 13597.2285 - val_mae: 13597.2285\n",
      "Epoch 47/100\n",
      "528/528 [==============================] - 1s 2ms/step - loss: 6.6989 - mae: 6.6989 - val_loss: 12520.4111 - val_mae: 12520.4111\n",
      "Epoch 48/100\n",
      "528/528 [==============================] - 1s 2ms/step - loss: 6.6805 - mae: 6.6805 - val_loss: 10944.4316 - val_mae: 10944.4316\n",
      "Epoch 49/100\n",
      "528/528 [==============================] - 1s 2ms/step - loss: 6.6221 - mae: 6.6221 - val_loss: 14356.0918 - val_mae: 14356.0918\n",
      "Epoch 50/100\n",
      "528/528 [==============================] - 1s 2ms/step - loss: 6.5740 - mae: 6.5740 - val_loss: 14501.0303 - val_mae: 14501.0303\n",
      "Epoch 51/100\n",
      "528/528 [==============================] - 1s 2ms/step - loss: 6.6102 - mae: 6.6102 - val_loss: 13258.0234 - val_mae: 13258.0234\n",
      "Epoch 52/100\n",
      "528/528 [==============================] - 1s 2ms/step - loss: 6.5733 - mae: 6.5733 - val_loss: 14420.0303 - val_mae: 14420.0303\n",
      "Epoch 53/100\n",
      "528/528 [==============================] - 1s 2ms/step - loss: 6.5591 - mae: 6.5591 - val_loss: 13367.1621 - val_mae: 13367.1621\n",
      "Epoch 54/100\n",
      "528/528 [==============================] - 1s 2ms/step - loss: 6.4999 - mae: 6.4999 - val_loss: 14355.0820 - val_mae: 14355.0820\n",
      "Epoch 55/100\n",
      "528/528 [==============================] - 1s 2ms/step - loss: 6.4978 - mae: 6.4978 - val_loss: 13679.1240 - val_mae: 13679.1240\n",
      "Epoch 56/100\n",
      "528/528 [==============================] - 1s 2ms/step - loss: 6.4908 - mae: 6.4908 - val_loss: 12137.0889 - val_mae: 12137.0889\n",
      "Epoch 57/100\n",
      "528/528 [==============================] - 1s 2ms/step - loss: 6.4259 - mae: 6.4259 - val_loss: 13068.2021 - val_mae: 13068.2021\n",
      "Epoch 58/100\n",
      "528/528 [==============================] - 1s 2ms/step - loss: 6.4301 - mae: 6.4301 - val_loss: 13055.6885 - val_mae: 13055.6885\n",
      "Epoch 59/100\n",
      "528/528 [==============================] - 1s 2ms/step - loss: 6.4508 - mae: 6.4508 - val_loss: 13956.1162 - val_mae: 13956.1162\n",
      "Epoch 60/100\n",
      "528/528 [==============================] - 1s 2ms/step - loss: 6.5162 - mae: 6.5162 - val_loss: 13881.2852 - val_mae: 13881.2852\n",
      "Epoch 61/100\n",
      "528/528 [==============================] - 1s 2ms/step - loss: 6.3645 - mae: 6.3645 - val_loss: 13731.0684 - val_mae: 13731.0684\n",
      "Epoch 62/100\n",
      "528/528 [==============================] - 1s 2ms/step - loss: 6.4835 - mae: 6.4835 - val_loss: 13917.7939 - val_mae: 13917.7939\n",
      "Epoch 63/100\n",
      "528/528 [==============================] - 1s 2ms/step - loss: 6.4385 - mae: 6.4385 - val_loss: 13311.5352 - val_mae: 13311.5352\n",
      "Epoch 64/100\n",
      "528/528 [==============================] - 1s 2ms/step - loss: 6.4072 - mae: 6.4072 - val_loss: 13624.2529 - val_mae: 13624.2529\n",
      "Epoch 65/100\n",
      "528/528 [==============================] - 1s 2ms/step - loss: 6.3948 - mae: 6.3948 - val_loss: 12488.9238 - val_mae: 12488.9238\n",
      "Epoch 66/100\n",
      "528/528 [==============================] - 1s 2ms/step - loss: 6.3346 - mae: 6.3346 - val_loss: 13187.8945 - val_mae: 13187.8945\n",
      "Epoch 67/100\n",
      "528/528 [==============================] - 2s 3ms/step - loss: 6.3372 - mae: 6.3372 - val_loss: 14305.6055 - val_mae: 14305.6055\n",
      "Epoch 68/100\n",
      "528/528 [==============================] - 2s 3ms/step - loss: 6.3309 - mae: 6.3309 - val_loss: 13656.0986 - val_mae: 13656.0986\n",
      "Epoch 69/100\n",
      "528/528 [==============================] - 1s 3ms/step - loss: 6.3019 - mae: 6.3019 - val_loss: 11637.4043 - val_mae: 11637.4043\n",
      "Epoch 70/100\n",
      "528/528 [==============================] - 1s 3ms/step - loss: 6.2868 - mae: 6.2868 - val_loss: 12948.3672 - val_mae: 12948.3672\n",
      "Epoch 71/100\n",
      "528/528 [==============================] - 2s 3ms/step - loss: 6.2366 - mae: 6.2366 - val_loss: 14233.6260 - val_mae: 14233.6260\n",
      "Epoch 72/100\n",
      "528/528 [==============================] - 1s 2ms/step - loss: 6.2110 - mae: 6.2110 - val_loss: 13542.8379 - val_mae: 13542.8379\n",
      "Epoch 73/100\n",
      "528/528 [==============================] - 1s 2ms/step - loss: 6.2723 - mae: 6.2723 - val_loss: 14492.6855 - val_mae: 14492.6855\n",
      "Epoch 74/100\n",
      "528/528 [==============================] - 1s 2ms/step - loss: 6.2662 - mae: 6.2662 - val_loss: 12979.2832 - val_mae: 12979.2832\n",
      "Epoch 75/100\n",
      "528/528 [==============================] - 1s 2ms/step - loss: 6.2447 - mae: 6.2447 - val_loss: 13853.9316 - val_mae: 13853.9316\n",
      "Epoch 76/100\n",
      "528/528 [==============================] - 1s 2ms/step - loss: 6.2248 - mae: 6.2248 - val_loss: 15891.8564 - val_mae: 15891.8564\n",
      "Epoch 77/100\n",
      "528/528 [==============================] - 1s 2ms/step - loss: 6.2532 - mae: 6.2532 - val_loss: 14656.4365 - val_mae: 14656.4365\n",
      "Epoch 78/100\n",
      "528/528 [==============================] - 1s 2ms/step - loss: 6.2130 - mae: 6.2130 - val_loss: 16675.4199 - val_mae: 16675.4199\n",
      "Epoch 79/100\n",
      "528/528 [==============================] - 1s 2ms/step - loss: 6.2315 - mae: 6.2315 - val_loss: 15320.1318 - val_mae: 15320.1318\n",
      "Epoch 80/100\n",
      "528/528 [==============================] - 1s 2ms/step - loss: 6.2128 - mae: 6.2128 - val_loss: 13936.8613 - val_mae: 13936.8613\n",
      "Epoch 81/100\n",
      "528/528 [==============================] - 2s 3ms/step - loss: 6.1632 - mae: 6.1632 - val_loss: 14547.2402 - val_mae: 14547.2402\n",
      "Epoch 82/100\n",
      "528/528 [==============================] - 1s 2ms/step - loss: 6.1891 - mae: 6.1891 - val_loss: 13746.2559 - val_mae: 13746.2559\n",
      "Epoch 83/100\n",
      "528/528 [==============================] - 1s 2ms/step - loss: 6.1242 - mae: 6.1242 - val_loss: 14547.7021 - val_mae: 14547.7021\n",
      "Epoch 84/100\n",
      "528/528 [==============================] - 1s 2ms/step - loss: 6.1401 - mae: 6.1401 - val_loss: 15346.4482 - val_mae: 15346.4482\n",
      "Epoch 85/100\n",
      "528/528 [==============================] - 1s 3ms/step - loss: 6.1527 - mae: 6.1527 - val_loss: 12956.1221 - val_mae: 12956.1221\n",
      "Epoch 86/100\n",
      "528/528 [==============================] - 1s 2ms/step - loss: 6.1519 - mae: 6.1519 - val_loss: 13236.7090 - val_mae: 13236.7090\n",
      "Epoch 87/100\n",
      "528/528 [==============================] - 1s 2ms/step - loss: 6.2406 - mae: 6.2406 - val_loss: 14613.2871 - val_mae: 14613.2871\n",
      "Epoch 88/100\n",
      "528/528 [==============================] - 1s 2ms/step - loss: 6.1248 - mae: 6.1248 - val_loss: 12910.2979 - val_mae: 12910.2979\n",
      "Epoch 89/100\n",
      "528/528 [==============================] - 1s 2ms/step - loss: 6.1180 - mae: 6.1180 - val_loss: 14253.7109 - val_mae: 14253.7109\n",
      "Epoch 90/100\n",
      "528/528 [==============================] - 1s 2ms/step - loss: 6.1098 - mae: 6.1098 - val_loss: 13722.5225 - val_mae: 13722.5225\n",
      "Epoch 91/100\n",
      "528/528 [==============================] - 1s 2ms/step - loss: 6.1504 - mae: 6.1504 - val_loss: 13726.6895 - val_mae: 13726.6895\n",
      "Epoch 92/100\n",
      "528/528 [==============================] - 1s 2ms/step - loss: 6.1322 - mae: 6.1322 - val_loss: 13162.6738 - val_mae: 13162.6738\n",
      "Epoch 93/100\n",
      "528/528 [==============================] - 1s 2ms/step - loss: 6.0391 - mae: 6.0391 - val_loss: 13776.2188 - val_mae: 13776.2188\n",
      "Epoch 94/100\n",
      "528/528 [==============================] - 1s 2ms/step - loss: 6.1191 - mae: 6.1191 - val_loss: 13427.6611 - val_mae: 13427.6611\n",
      "Epoch 95/100\n",
      "528/528 [==============================] - 1s 2ms/step - loss: 6.0692 - mae: 6.0692 - val_loss: 14257.8037 - val_mae: 14257.8037\n",
      "Epoch 96/100\n",
      "528/528 [==============================] - 1s 2ms/step - loss: 6.0484 - mae: 6.0484 - val_loss: 14120.5586 - val_mae: 14120.5586\n",
      "Epoch 97/100\n",
      "528/528 [==============================] - 1s 2ms/step - loss: 6.0499 - mae: 6.0499 - val_loss: 13738.9961 - val_mae: 13738.9961\n",
      "Epoch 98/100\n",
      "528/528 [==============================] - 1s 2ms/step - loss: 6.0523 - mae: 6.0523 - val_loss: 14094.2490 - val_mae: 14094.2490\n",
      "Epoch 99/100\n",
      "528/528 [==============================] - 1s 2ms/step - loss: 6.0409 - mae: 6.0409 - val_loss: 12438.0342 - val_mae: 12438.0342\n",
      "Epoch 100/100\n",
      "528/528 [==============================] - 1s 2ms/step - loss: 6.0469 - mae: 6.0469 - val_loss: 12269.4258 - val_mae: 12269.4258\n"
     ]
    }
   ],
   "source": [
    "# Create a model\n",
    "model_2 = tf.keras.Sequential([\n",
    "    tf.keras.layers.Dense(32, activation='relu'),\n",
    "    tf.keras.layers.Dense(32, activation='relu'),\n",
    "    tf.keras.layers.Dense(32, activation='relu'),\n",
    "    tf.keras.layers.Dense(1)\n",
    "])\n",
    "\n",
    "# Compile model\n",
    "model_2.compile(loss='mae',\n",
    "             optimizer='SGD',\n",
    "             metrics='mae')\n",
    "\n",
    "# Fit the model\n",
    "history = model_2.fit(X_train_s, y_train, epochs=100,validation_data=(X_test, y_test))"
   ]
  },
  {
   "cell_type": "code",
   "execution_count": 52,
   "id": "9d985d9f-13ed-4e90-942e-dd6df2002b00",
   "metadata": {
    "execution": {
     "iopub.execute_input": "2023-07-20T10:39:01.649450Z",
     "iopub.status.busy": "2023-07-20T10:39:01.648760Z",
     "iopub.status.idle": "2023-07-20T10:39:01.848397Z",
     "shell.execute_reply": "2023-07-20T10:39:01.847319Z",
     "shell.execute_reply.started": "2023-07-20T10:39:01.649421Z"
    },
    "tags": []
   },
   "outputs": [
    {
     "data": {
      "text/plain": [
       "<AxesSubplot:>"
      ]
     },
     "execution_count": 52,
     "metadata": {},
     "output_type": "execute_result"
    },
    {
     "data": {
      "image/png": "[encoded data removed]",
      "text/plain": [
       "<Figure size 432x288 with 1 Axes>"
      ]
     },
     "metadata": {
      "needs_background": "light"
     },
     "output_type": "display_data"
    }
   ],
   "source": [
    "pd.DataFrame(history.history).plot()"
   ]
  },
  {
   "cell_type": "code",
   "execution_count": 55,
   "id": "2e666536-aaaf-4c2c-86a6-17f5d8462c53",
   "metadata": {
    "execution": {
     "iopub.execute_input": "2023-07-20T10:39:02.882931Z",
     "iopub.status.busy": "2023-07-20T10:39:02.882324Z",
     "iopub.status.idle": "2023-07-20T10:39:03.344705Z",
     "shell.execute_reply": "2023-07-20T10:39:03.343682Z",
     "shell.execute_reply.started": "2023-07-20T10:39:02.882900Z"
    },
    "tags": []
   },
   "outputs": [
    {
     "name": "stdout",
     "output_type": "stream",
     "text": [
      "227/227 [==============================] - 0s 994us/step\n"
     ]
    }
   ],
   "source": [
    "y_pred_2 = model_2.predict(X_test_s)"
   ]
  },
  {
   "cell_type": "code",
   "execution_count": 54,
   "id": "30755efc-06cd-4e0d-abe1-71bafaea613a",
   "metadata": {
    "execution": {
     "iopub.execute_input": "2023-07-20T10:39:02.648291Z",
     "iopub.status.busy": "2023-07-20T10:39:02.647650Z",
     "iopub.status.idle": "2023-07-20T10:39:02.880099Z",
     "shell.execute_reply": "2023-07-20T10:39:02.879004Z",
     "shell.execute_reply.started": "2023-07-20T10:39:02.648259Z"
    },
    "tags": []
   },
   "outputs": [
    {
     "data": {
      "image/png": "[encoded data removed]",
      "text/plain": [
       "<Figure size 720x720 with 1 Axes>"
      ]
     },
     "metadata": {
      "needs_background": "light"
     },
     "output_type": "display_data"
    }
   ],
   "source": [
    "create_scatter_comparison(y_test, y_pred_2)"
   ]
  },
  {
   "cell_type": "code",
   "execution_count": null,
   "id": "9e78c225-cbe9-4322-b207-34f8f1f82425",
   "metadata": {},
   "outputs": [],
   "source": []
  }
 ],
 "metadata": {
  "kernelspec": {
   "display_name": "Python 3 (ipykernel)",
   "language": "python",
   "name": "python3"
  },
  "language_info": {
   "codemirror_mode": {
    "name": "ipython",
    "version": 3
   },
   "file_extension": ".py",
   "mimetype": "text/x-python",
   "name": "python",
   "nbconvert_exporter": "python",
   "pygments_lexer": "ipython3",
   "version": "3.10.3"
  }
 },
 "nbformat": 4,
 "nbformat_minor": 5
}
